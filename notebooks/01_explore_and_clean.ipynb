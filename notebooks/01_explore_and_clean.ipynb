{
  "nbformat": 4,
  "nbformat_minor": 0,
  "metadata": {
    "colab": {
      "provenance": [],
      "include_colab_link": true
    },
    "kernelspec": {
      "name": "python3",
      "display_name": "Python 3"
    },
    "language_info": {
      "name": "python"
    }
  },
  "cells": [
    {
      "cell_type": "markdown",
      "metadata": {
        "id": "view-in-github",
        "colab_type": "text"
      },
      "source": [
        "<a href=\"https://colab.research.google.com/github/Dylan-Geraci/neuroimaging-tumor-detector/blob/main/notebooks/01_explore_and_clean.ipynb\" target=\"_parent\"><img src=\"https://colab.research.google.com/assets/colab-badge.svg\" alt=\"Open In Colab\"/></a>"
      ]
    },
    {
      "cell_type": "markdown",
      "source": [
        "Import Libraries"
      ],
      "metadata": {
        "id": "AuFXkRtPM32L"
      }
    },
    {
      "cell_type": "code",
      "execution_count": 2,
      "metadata": {
        "id": "lgNJUdJE0Vfl"
      },
      "outputs": [],
      "source": [
        "import pandas as pd\n",
        "import numpy as np\n",
        "from google.colab import drive\n",
        "from torchvision import datasets, transforms\n",
        "from sklearn.model_selection import StratifiedShuffleSplit\n",
        "from torch.utils.data import Dataset, DataLoader, Subset"
      ]
    },
    {
      "cell_type": "markdown",
      "source": [
        "Set Training Data Path"
      ],
      "metadata": {
        "id": "gElx6188Nb2h"
      }
    },
    {
      "cell_type": "code",
      "source": [
        "drive.mount('/content/drive')\n",
        "train_path = \"/content/drive/MyDrive/neuro-imaging/data/Training\""
      ],
      "metadata": {
        "id": "XXc3At3ZNWOd",
        "colab": {
          "base_uri": "https://localhost:8080/"
        },
        "outputId": "601b4fac-27a9-4ac6-e106-70da1c5d6f30"
      },
      "execution_count": 11,
      "outputs": [
        {
          "output_type": "stream",
          "name": "stdout",
          "text": [
            "Drive already mounted at /content/drive; to attempt to forcibly remount, call drive.mount(\"/content/drive\", force_remount=True).\n"
          ]
        }
      ]
    },
    {
      "cell_type": "markdown",
      "source": [
        "Define Transformations"
      ],
      "metadata": {
        "id": "KS3U81EUM8Wf"
      }
    },
    {
      "cell_type": "code",
      "source": [
        "train_tfms = transforms.Compose([\n",
        "    transforms.Grayscale(num_output_channels=3),\n",
        "    transforms.Resize((224, 224)),\n",
        "    transforms.RandomHorizontalFlip(),\n",
        "    transforms.ToTensor(),\n",
        "    transforms.Normalize([0.485,0.456,0.406],[0.229,0.224,0.225]),\n",
        "])\n",
        "\n",
        "val_tfms = transforms.Compose([\n",
        "    transforms.Grayscale(num_output_channels=3),\n",
        "    transforms.Resize((224, 224)),\n",
        "    transforms.ToTensor(),\n",
        "    transforms.Normalize([0.485,0.456,0.406],[0.229,0.224,0.225]),\n",
        "])"
      ],
      "metadata": {
        "id": "7zCgOuDO2mus"
      },
      "execution_count": 12,
      "outputs": []
    },
    {
      "cell_type": "code",
      "source": [
        "base = datasets.ImageFolder(train_path)  # no transform here\n",
        "y = np.array([label for _, label in base.samples])"
      ],
      "metadata": {
        "id": "m7vyv930P2Gf"
      },
      "execution_count": 13,
      "outputs": []
    },
    {
      "cell_type": "code",
      "source": [
        "sss = StratifiedShuffleSplit(n_splits=1, test_size=0.15, random_state=42)\n",
        "train_idx, val_idx = next(sss.split(np.zeros(len(y)), y))"
      ],
      "metadata": {
        "id": "l0znMWTZVp09"
      },
      "execution_count": 14,
      "outputs": []
    },
    {
      "cell_type": "code",
      "source": [
        "class TransformSubset(Dataset):\n",
        "    def __init__(self, base_ds, indices, transform):\n",
        "        self.base = base_ds\n",
        "        self.indices = indices\n",
        "        self.transform = transform\n",
        "    def __len__(self): return len(self.indices)\n",
        "    def __getitem__(self, i):\n",
        "        path, label = self.base.samples[self.indices[i]]\n",
        "        img = self.base.loader(path)           # PIL image\n",
        "        if self.transform: img = self.transform(img)\n",
        "        return img, label\n",
        "\n",
        "train_ds = TransformSubset(base, train_idx, train_tfms)\n",
        "val_ds   = TransformSubset(base, val_idx,   val_tfms)"
      ],
      "metadata": {
        "id": "Q4LHMdTGVsTE"
      },
      "execution_count": 15,
      "outputs": []
    },
    {
      "cell_type": "code",
      "source": [
        "train_dl = DataLoader(train_ds, batch_size=32, shuffle=True,  num_workers=2, pin_memory=True)\n",
        "val_dl   = DataLoader(val_ds,   batch_size=32, shuffle=False, num_workers=2, pin_memory=True)"
      ],
      "metadata": {
        "id": "feKxyGGsVuJt"
      },
      "execution_count": 16,
      "outputs": []
    },
    {
      "cell_type": "code",
      "source": [
        "classes = base.classes\n",
        "print(classes)"
      ],
      "metadata": {
        "id": "aEDRi4n8VvTd",
        "colab": {
          "base_uri": "https://localhost:8080/"
        },
        "outputId": "b18252e2-b50e-4507-9a87-1ba85d90c313"
      },
      "execution_count": 17,
      "outputs": [
        {
          "output_type": "stream",
          "name": "stdout",
          "text": [
            "['glioma', 'meningioma', 'notumor', 'pituitary']\n"
          ]
        }
      ]
    }
  ]
}