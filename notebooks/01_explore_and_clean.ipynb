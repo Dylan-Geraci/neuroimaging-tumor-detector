{
  "nbformat": 4,
  "nbformat_minor": 0,
  "metadata": {
    "colab": {
      "provenance": [],
      "include_colab_link": true
    },
    "kernelspec": {
      "name": "python3",
      "display_name": "Python 3"
    },
    "language_info": {
      "name": "python"
    }
  },
  "cells": [
    {
      "cell_type": "markdown",
      "metadata": {
        "id": "view-in-github",
        "colab_type": "text"
      },
      "source": [
        "<a href=\"https://colab.research.google.com/github/Dylan-Geraci/neuroimaging-tumor-detector/blob/main/notebooks/01_explore_and_clean.ipynb\" target=\"_parent\"><img src=\"https://colab.research.google.com/assets/colab-badge.svg\" alt=\"Open In Colab\"/></a>"
      ]
    },
    {
      "cell_type": "markdown",
      "source": [
        "# Import Libraries"
      ],
      "metadata": {
        "id": "AuFXkRtPM32L"
      }
    },
    {
      "cell_type": "code",
      "execution_count": 4,
      "metadata": {
        "id": "lgNJUdJE0Vfl"
      },
      "outputs": [],
      "source": [
        "import os, glob, collections\n",
        "import pandas as pd\n",
        "import numpy as np\n",
        "from google.colab import drive\n",
        "from torchvision import datasets, transforms\n",
        "from sklearn.model_selection import StratifiedShuffleSplit\n",
        "from torch.utils.data import Dataset, DataLoader, Subset\n",
        "from PIL import Image, UnidentifiedImageError\n",
        "import numpy as np, tqdm, os, glob"
      ]
    },
    {
      "cell_type": "markdown",
      "source": [
        "# Set Training Data Path"
      ],
      "metadata": {
        "id": "gElx6188Nb2h"
      }
    },
    {
      "cell_type": "code",
      "source": [
        "drive.mount('/content/drive')\n",
        "TRAIN_PATH = \"/content/drive/MyDrive/neuro-imaging/data/Training\""
      ],
      "metadata": {
        "id": "XXc3At3ZNWOd",
        "colab": {
          "base_uri": "https://localhost:8080/"
        },
        "outputId": "74fa4ae4-2632-47db-8f99-b1035ca6f10d"
      },
      "execution_count": 5,
      "outputs": [
        {
          "output_type": "stream",
          "name": "stdout",
          "text": [
            "Mounted at /content/drive\n"
          ]
        }
      ]
    },
    {
      "cell_type": "markdown",
      "source": [
        "# Define Transformations"
      ],
      "metadata": {
        "id": "KS3U81EUM8Wf"
      }
    },
    {
      "cell_type": "code",
      "source": [
        "train_tfms = transforms.Compose([\n",
        "    transforms.Grayscale(num_output_channels=3),\n",
        "    transforms.Resize((224, 224)),\n",
        "    transforms.RandomHorizontalFlip(),\n",
        "    transforms.ToTensor(),\n",
        "    transforms.Normalize([0.485,0.456,0.406],[0.229,0.224,0.225]),\n",
        "])\n",
        "\n",
        "val_tfms = transforms.Compose([\n",
        "    transforms.Grayscale(num_output_channels=3),\n",
        "    transforms.Resize((224, 224)),\n",
        "    transforms.ToTensor(),\n",
        "    transforms.Normalize([0.485,0.456,0.406],[0.229,0.224,0.225]),\n",
        "])"
      ],
      "metadata": {
        "id": "7zCgOuDO2mus"
      },
      "execution_count": 6,
      "outputs": []
    },
    {
      "cell_type": "code",
      "source": [
        "base = datasets.ImageFolder(TRAIN_PATH)  # no transform here\n",
        "y = np.array([label for _, label in base.samples])"
      ],
      "metadata": {
        "id": "m7vyv930P2Gf"
      },
      "execution_count": 7,
      "outputs": []
    },
    {
      "cell_type": "markdown",
      "source": [
        "# Splitting Data and Training"
      ],
      "metadata": {
        "id": "NIQpIm_qZcz3"
      }
    },
    {
      "cell_type": "code",
      "source": [
        "sss = StratifiedShuffleSplit(n_splits=1, test_size=0.15, random_state=42)\n",
        "train_idx, val_idx = next(sss.split(np.zeros(len(y)), y))"
      ],
      "metadata": {
        "id": "l0znMWTZVp09"
      },
      "execution_count": 8,
      "outputs": []
    },
    {
      "cell_type": "code",
      "source": [
        "class TransformSubset(Dataset):\n",
        "    def __init__(self, base_ds, indices, transform):\n",
        "        self.base = base_ds\n",
        "        self.indices = indices\n",
        "        self.transform = transform\n",
        "    def __len__(self): return len(self.indices)\n",
        "    def __getitem__(self, i):\n",
        "        path, label = self.base.samples[self.indices[i]]\n",
        "        img = self.base.loader(path)           # PIL image\n",
        "        if self.transform: img = self.transform(img)\n",
        "        return img, label\n",
        "\n",
        "train_ds = TransformSubset(base, train_idx, train_tfms)\n",
        "val_ds   = TransformSubset(base, val_idx,   val_tfms)"
      ],
      "metadata": {
        "id": "Q4LHMdTGVsTE"
      },
      "execution_count": 9,
      "outputs": []
    },
    {
      "cell_type": "code",
      "source": [
        "train_dl = DataLoader(train_ds, batch_size=32, shuffle=True,  num_workers=2, pin_memory=True)\n",
        "val_dl   = DataLoader(val_ds,   batch_size=32, shuffle=False, num_workers=2, pin_memory=True)"
      ],
      "metadata": {
        "id": "feKxyGGsVuJt"
      },
      "execution_count": 10,
      "outputs": []
    },
    {
      "cell_type": "code",
      "source": [
        "classes = base.classes\n",
        "print(classes)"
      ],
      "metadata": {
        "id": "aEDRi4n8VvTd",
        "colab": {
          "base_uri": "https://localhost:8080/"
        },
        "outputId": "7a5b9d97-df39-4230-d1e3-7ba1fc2f0e78"
      },
      "execution_count": 11,
      "outputs": [
        {
          "output_type": "stream",
          "name": "stdout",
          "text": [
            "['glioma', 'meningioma', 'notumor', 'pituitary']\n"
          ]
        }
      ]
    },
    {
      "cell_type": "code",
      "source": [
        "class_counts = {}\n",
        "for cls in sorted(d for d in os.listdir(TRAIN_PATH) if os.path.isdir(os.path.join(TRAIN_PATH, d))):\n",
        "    n = len(glob.glob(os.path.join(TRAIN_PATH, cls, \"*\")))\n",
        "    class_counts[cls] = n\n",
        "class_counts"
      ],
      "metadata": {
        "colab": {
          "base_uri": "https://localhost:8080/"
        },
        "id": "TT-aUmIAacNs",
        "outputId": "8f400397-34de-46c9-d561-d70a4808634a"
      },
      "execution_count": 12,
      "outputs": [
        {
          "output_type": "execute_result",
          "data": {
            "text/plain": [
              "{'glioma': 1321, 'meningioma': 1339, 'notumor': 1595, 'pituitary': 1457}"
            ]
          },
          "metadata": {},
          "execution_count": 12
        }
      ]
    },
    {
      "cell_type": "code",
      "source": [
        "sizes = []\n",
        "bad = []\n",
        "for cls, n in class_counts.items():\n",
        "    for p in glob.glob(os.path.join(TRAIN_PATH, cls, \"*\")):\n",
        "        try:\n",
        "            with Image.open(p) as im:\n",
        "                sizes.append((*im.size, cls))  # (W,H,cls)\n",
        "        except (UnidentifiedImageError, OSError):\n",
        "            bad.append(p)\n",
        "\n",
        "print(\"Corrupt files:\", len(bad))\n",
        "print(\"Examples:\", bad[:3])\n",
        "ws, hs = zip(*[(w,h) for w,h,_ in sizes])\n",
        "print(\"W median/mean:\", np.median(ws), np.mean(ws))\n",
        "print(\"H median/mean:\", np.median(hs), np.mean(hs))"
      ],
      "metadata": {
        "id": "FMVd-diXaqLF"
      },
      "execution_count": null,
      "outputs": []
    },
    {
      "cell_type": "markdown",
      "source": [
        "## Visualization"
      ],
      "metadata": {
        "id": "rrJ7jtldt3JQ"
      }
    },
    {
      "cell_type": "code",
      "source": [
        "plt.figure(figsize=(6,3))\n",
        "plt.bar(class_counts.keys(), class_counts.values())\n",
        "plt.title(\"Class counts\")\n",
        "plt.show()\n",
        "\n",
        "ws, hs = zip(*[(w,h) for w,h,_ in sizes])\n",
        "plt.figure(figsize=(10,3))\n",
        "plt.subplot(1,2,1); plt.hist(ws, bins=30); plt.title(\"Width distribution\")\n",
        "plt.subplot(1,2,2); plt.hist(hs, bins=30); plt.title(\"Height distribution\")\n",
        "plt.tight_layout(); plt.show()"
      ],
      "metadata": {
        "id": "LEmZyQm6t5lf"
      },
      "execution_count": null,
      "outputs": []
    },
    {
      "cell_type": "code",
      "source": [],
      "metadata": {
        "id": "4wHHI_28t_MW"
      },
      "execution_count": null,
      "outputs": []
    }
  ]
}