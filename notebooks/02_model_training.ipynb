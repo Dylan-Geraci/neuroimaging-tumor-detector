{
  "nbformat": 4,
  "nbformat_minor": 0,
  "metadata": {
    "colab": {
      "provenance": [],
      "authorship_tag": "ABX9TyN6cL8HDyCtuDPucOiaF6Sm",
      "include_colab_link": true
    },
    "kernelspec": {
      "name": "python3",
      "display_name": "Python 3"
    },
    "language_info": {
      "name": "python"
    }
  },
  "cells": [
    {
      "cell_type": "markdown",
      "metadata": {
        "id": "view-in-github",
        "colab_type": "text"
      },
      "source": [
        "<a href=\"https://colab.research.google.com/github/Dylan-Geraci/neuroimaging-tumor-detector/blob/main/notebooks/02_model_training.ipynb\" target=\"_parent\"><img src=\"https://colab.research.google.com/assets/colab-badge.svg\" alt=\"Open In Colab\"/></a>"
      ]
    },
    {
      "cell_type": "markdown",
      "source": [
        "# Model Training"
      ],
      "metadata": {
        "id": "DJ7_x9M-Ji5R"
      }
    },
    {
      "cell_type": "markdown",
      "source": [
        "## Notebook Setup"
      ],
      "metadata": {
        "id": "xUgARUCOJt7R"
      }
    },
    {
      "cell_type": "markdown",
      "source": [
        "Import Libraries"
      ],
      "metadata": {
        "id": "npv4PSqgKA4D"
      }
    },
    {
      "cell_type": "code",
      "execution_count": 8,
      "metadata": {
        "id": "7f8UXfqI3O4x"
      },
      "outputs": [],
      "source": [
        "# --- Standard ---\n",
        "import os, json, math, time\n",
        "from collections import Counter\n",
        "\n",
        "# --- Numerical / data ---\n",
        "import numpy as np\n",
        "import pandas as pd\n",
        "\n",
        "# --- Imaging & plotting ---\n",
        "from PIL import Image\n",
        "\n",
        "# --- Torch / ML ---\n",
        "import torch\n",
        "import torch.nn as nn\n",
        "import torch.optim as optim\n",
        "from torch.utils.data import Dataset, DataLoader\n",
        "\n",
        "# --- Metrics ---\n",
        "from sklearn.metrics import f1_score, accuracy_score\n",
        "\n",
        "# --- Vision ---\n",
        "from torchvision import transforms\n",
        "\n",
        "# --- Pretrained models ---\n",
        "import timm"
      ]
    },
    {
      "cell_type": "markdown",
      "source": [
        "Set Training Data Path"
      ],
      "metadata": {
        "id": "5CPczaCDJz2K"
      }
    },
    {
      "cell_type": "code",
      "source": [
        "drive.mount('/content/drive')\n",
        "TRAIN_PATH = \"/content/drive/MyDrive/neuro-imaging/data/Training\""
      ],
      "metadata": {
        "id": "SqZB24pgJzee",
        "colab": {
          "base_uri": "https://localhost:8080/"
        },
        "outputId": "f67aee33-d4c4-4172-e74b-7e1a3576f699"
      },
      "execution_count": 2,
      "outputs": [
        {
          "output_type": "stream",
          "name": "stdout",
          "text": [
            "Mounted at /content/drive\n"
          ]
        }
      ]
    },
    {
      "cell_type": "code",
      "source": [
        "USE_SAVED_SPLITS = False\n",
        "SPLITS_DIR = \"/content/drive/MyDrive/neuro-imaging/splits\""
      ],
      "metadata": {
        "id": "mTKcqorcS7mD"
      },
      "execution_count": 6,
      "outputs": []
    },
    {
      "cell_type": "markdown",
      "source": [
        "## Path and Constants"
      ],
      "metadata": {
        "id": "flyOUPy_YeLF"
      }
    },
    {
      "cell_type": "code",
      "source": [
        "TRAIN_PATH = \"/content/drive/MyDrive/neuro-imaging/data/Training\"\n",
        "SPLITS_DIR = \"/content/drive/MyDrive/neuro-imaging/splits\"\n",
        "OUT_DIR    = \"/content/drive/MyDrive/neuro-imaging/models\"\n",
        "os.makedirs(OUT_DIR, exist_ok=True)\n",
        "\n",
        "IMG_SIZE = 224\n",
        "BATCH_SIZE = 32\n",
        "LR = 3e-4\n",
        "EPOCHS = 10\n",
        "PATIENCE = 2\n",
        "SEED = 42"
      ],
      "metadata": {
        "id": "zIY6rvRiYggv"
      },
      "execution_count": 9,
      "outputs": []
    },
    {
      "cell_type": "markdown",
      "source": [
        "## Reproducing"
      ],
      "metadata": {
        "id": "fNk99AnOYn3u"
      }
    },
    {
      "cell_type": "code",
      "source": [
        "def set_seed(seed=SEED):\n",
        "    import random\n",
        "    random.seed(seed)\n",
        "    np.random.seed(seed)\n",
        "    torch.manual_seed(seed)\n",
        "    torch.cuda.manual_seed_all(seed)\n",
        "    torch.backends.cudnn.deterministic = True\n",
        "    torch.backends.cudnn.benchmark = False\n",
        "\n",
        "set_seed(SEED)\n",
        "\n",
        "device = torch.device(\"cuda\" if torch.cuda.is_available() else \"cpu\")\n",
        "print(\"Device:\", device)"
      ],
      "metadata": {
        "colab": {
          "base_uri": "https://localhost:8080/"
        },
        "id": "u5gyhzb3Yqs9",
        "outputId": "d9dc2842-8a81-4499-9f63-2cf31a2f95b2"
      },
      "execution_count": 10,
      "outputs": [
        {
          "output_type": "stream",
          "name": "stdout",
          "text": [
            "Device: cpu\n"
          ]
        }
      ]
    },
    {
      "cell_type": "markdown",
      "source": [
        "## Load Splits and Class Maps"
      ],
      "metadata": {
        "id": "ehSgdCCHY15I"
      }
    },
    {
      "cell_type": "code",
      "source": [
        "def _read_paths(txt_path):\n",
        "    with open(txt_path, \"r\") as f:\n",
        "        return [ln.strip() for ln in f if ln.strip()]\n",
        "\n",
        "with open(os.path.join(SPLITS_DIR, \"class_to_idx.json\"), \"r\") as f:\n",
        "    class_to_idx = json.load(f)\n",
        "idx_to_class = {v:k for k,v in class_to_idx.items()}\n",
        "num_classes = len(class_to_idx)\n",
        "print(\"Classes:\", [idx_to_class[i] for i in range(num_classes)])\n",
        "\n",
        "train_paths = _read_paths(os.path.join(SPLITS_DIR, \"train.txt\"))\n",
        "val_paths   = _read_paths(os.path.join(SPLITS_DIR, \"val.txt\"))\n",
        "print(f\"Loaded {len(train_paths)} train, {len(val_paths)} val files\")\n"
      ],
      "metadata": {
        "id": "bE0C_9ADY5aH",
        "outputId": "e5758c8d-08a1-46a8-e881-44fb3f6d8919",
        "colab": {
          "base_uri": "https://localhost:8080/"
        }
      },
      "execution_count": 11,
      "outputs": [
        {
          "output_type": "stream",
          "name": "stdout",
          "text": [
            "Classes: ['glioma', 'meningioma', 'notumor', 'pituitary']\n",
            "Loaded 4855 train, 857 val files\n"
          ]
        }
      ]
    }
  ]
}