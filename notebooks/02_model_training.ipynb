{
  "nbformat": 4,
  "nbformat_minor": 0,
  "metadata": {
    "colab": {
      "provenance": [],
      "gpuType": "T4",
      "include_colab_link": true
    },
    "kernelspec": {
      "name": "python3",
      "display_name": "Python 3"
    },
    "language_info": {
      "name": "python"
    },
    "accelerator": "GPU",
    "widgets": {
      "application/vnd.jupyter.widget-state+json": {
        "ee4101152d5b4396aa9e60d433e4469f": {
          "model_module": "@jupyter-widgets/controls",
          "model_name": "HBoxModel",
          "model_module_version": "1.5.0",
          "state": {
            "_dom_classes": [],
            "_model_module": "@jupyter-widgets/controls",
            "_model_module_version": "1.5.0",
            "_model_name": "HBoxModel",
            "_view_count": null,
            "_view_module": "@jupyter-widgets/controls",
            "_view_module_version": "1.5.0",
            "_view_name": "HBoxView",
            "box_style": "",
            "children": [
              "IPY_MODEL_fe022a1fa52a4160b3ef50d58009fd1a",
              "IPY_MODEL_08ae9dcb95034223b5385a19ca6c556f",
              "IPY_MODEL_a6b1f84acc7d42b089a6af1fafe66f42"
            ],
            "layout": "IPY_MODEL_e1e1e96c527845b281d5dd966b28510b"
          }
        },
        "fe022a1fa52a4160b3ef50d58009fd1a": {
          "model_module": "@jupyter-widgets/controls",
          "model_name": "HTMLModel",
          "model_module_version": "1.5.0",
          "state": {
            "_dom_classes": [],
            "_model_module": "@jupyter-widgets/controls",
            "_model_module_version": "1.5.0",
            "_model_name": "HTMLModel",
            "_view_count": null,
            "_view_module": "@jupyter-widgets/controls",
            "_view_module_version": "1.5.0",
            "_view_name": "HTMLView",
            "description": "",
            "description_tooltip": null,
            "layout": "IPY_MODEL_e8c779f07ee840cb831ff7291a0a2f45",
            "placeholder": "​",
            "style": "IPY_MODEL_e65f592f38554a859da35f58ad80704b",
            "value": "model.safetensors: 100%"
          }
        },
        "08ae9dcb95034223b5385a19ca6c556f": {
          "model_module": "@jupyter-widgets/controls",
          "model_name": "FloatProgressModel",
          "model_module_version": "1.5.0",
          "state": {
            "_dom_classes": [],
            "_model_module": "@jupyter-widgets/controls",
            "_model_module_version": "1.5.0",
            "_model_name": "FloatProgressModel",
            "_view_count": null,
            "_view_module": "@jupyter-widgets/controls",
            "_view_module_version": "1.5.0",
            "_view_name": "ProgressView",
            "bar_style": "success",
            "description": "",
            "description_tooltip": null,
            "layout": "IPY_MODEL_54a21bf1e97944ee90a1073833dd9103",
            "max": 21355344,
            "min": 0,
            "orientation": "horizontal",
            "style": "IPY_MODEL_f8dce1fdf3f24167a75b627d12930329",
            "value": 21355344
          }
        },
        "a6b1f84acc7d42b089a6af1fafe66f42": {
          "model_module": "@jupyter-widgets/controls",
          "model_name": "HTMLModel",
          "model_module_version": "1.5.0",
          "state": {
            "_dom_classes": [],
            "_model_module": "@jupyter-widgets/controls",
            "_model_module_version": "1.5.0",
            "_model_name": "HTMLModel",
            "_view_count": null,
            "_view_module": "@jupyter-widgets/controls",
            "_view_module_version": "1.5.0",
            "_view_name": "HTMLView",
            "description": "",
            "description_tooltip": null,
            "layout": "IPY_MODEL_b1d9b8d10dcc4f138570284f2343f38d",
            "placeholder": "​",
            "style": "IPY_MODEL_49be5f24e5ee4fe2ad1fe6f880391cdd",
            "value": " 21.4M/21.4M [00:00&lt;00:00, 41.5MB/s]"
          }
        },
        "e1e1e96c527845b281d5dd966b28510b": {
          "model_module": "@jupyter-widgets/base",
          "model_name": "LayoutModel",
          "model_module_version": "1.2.0",
          "state": {
            "_model_module": "@jupyter-widgets/base",
            "_model_module_version": "1.2.0",
            "_model_name": "LayoutModel",
            "_view_count": null,
            "_view_module": "@jupyter-widgets/base",
            "_view_module_version": "1.2.0",
            "_view_name": "LayoutView",
            "align_content": null,
            "align_items": null,
            "align_self": null,
            "border": null,
            "bottom": null,
            "display": null,
            "flex": null,
            "flex_flow": null,
            "grid_area": null,
            "grid_auto_columns": null,
            "grid_auto_flow": null,
            "grid_auto_rows": null,
            "grid_column": null,
            "grid_gap": null,
            "grid_row": null,
            "grid_template_areas": null,
            "grid_template_columns": null,
            "grid_template_rows": null,
            "height": null,
            "justify_content": null,
            "justify_items": null,
            "left": null,
            "margin": null,
            "max_height": null,
            "max_width": null,
            "min_height": null,
            "min_width": null,
            "object_fit": null,
            "object_position": null,
            "order": null,
            "overflow": null,
            "overflow_x": null,
            "overflow_y": null,
            "padding": null,
            "right": null,
            "top": null,
            "visibility": null,
            "width": null
          }
        },
        "e8c779f07ee840cb831ff7291a0a2f45": {
          "model_module": "@jupyter-widgets/base",
          "model_name": "LayoutModel",
          "model_module_version": "1.2.0",
          "state": {
            "_model_module": "@jupyter-widgets/base",
            "_model_module_version": "1.2.0",
            "_model_name": "LayoutModel",
            "_view_count": null,
            "_view_module": "@jupyter-widgets/base",
            "_view_module_version": "1.2.0",
            "_view_name": "LayoutView",
            "align_content": null,
            "align_items": null,
            "align_self": null,
            "border": null,
            "bottom": null,
            "display": null,
            "flex": null,
            "flex_flow": null,
            "grid_area": null,
            "grid_auto_columns": null,
            "grid_auto_flow": null,
            "grid_auto_rows": null,
            "grid_column": null,
            "grid_gap": null,
            "grid_row": null,
            "grid_template_areas": null,
            "grid_template_columns": null,
            "grid_template_rows": null,
            "height": null,
            "justify_content": null,
            "justify_items": null,
            "left": null,
            "margin": null,
            "max_height": null,
            "max_width": null,
            "min_height": null,
            "min_width": null,
            "object_fit": null,
            "object_position": null,
            "order": null,
            "overflow": null,
            "overflow_x": null,
            "overflow_y": null,
            "padding": null,
            "right": null,
            "top": null,
            "visibility": null,
            "width": null
          }
        },
        "e65f592f38554a859da35f58ad80704b": {
          "model_module": "@jupyter-widgets/controls",
          "model_name": "DescriptionStyleModel",
          "model_module_version": "1.5.0",
          "state": {
            "_model_module": "@jupyter-widgets/controls",
            "_model_module_version": "1.5.0",
            "_model_name": "DescriptionStyleModel",
            "_view_count": null,
            "_view_module": "@jupyter-widgets/base",
            "_view_module_version": "1.2.0",
            "_view_name": "StyleView",
            "description_width": ""
          }
        },
        "54a21bf1e97944ee90a1073833dd9103": {
          "model_module": "@jupyter-widgets/base",
          "model_name": "LayoutModel",
          "model_module_version": "1.2.0",
          "state": {
            "_model_module": "@jupyter-widgets/base",
            "_model_module_version": "1.2.0",
            "_model_name": "LayoutModel",
            "_view_count": null,
            "_view_module": "@jupyter-widgets/base",
            "_view_module_version": "1.2.0",
            "_view_name": "LayoutView",
            "align_content": null,
            "align_items": null,
            "align_self": null,
            "border": null,
            "bottom": null,
            "display": null,
            "flex": null,
            "flex_flow": null,
            "grid_area": null,
            "grid_auto_columns": null,
            "grid_auto_flow": null,
            "grid_auto_rows": null,
            "grid_column": null,
            "grid_gap": null,
            "grid_row": null,
            "grid_template_areas": null,
            "grid_template_columns": null,
            "grid_template_rows": null,
            "height": null,
            "justify_content": null,
            "justify_items": null,
            "left": null,
            "margin": null,
            "max_height": null,
            "max_width": null,
            "min_height": null,
            "min_width": null,
            "object_fit": null,
            "object_position": null,
            "order": null,
            "overflow": null,
            "overflow_x": null,
            "overflow_y": null,
            "padding": null,
            "right": null,
            "top": null,
            "visibility": null,
            "width": null
          }
        },
        "f8dce1fdf3f24167a75b627d12930329": {
          "model_module": "@jupyter-widgets/controls",
          "model_name": "ProgressStyleModel",
          "model_module_version": "1.5.0",
          "state": {
            "_model_module": "@jupyter-widgets/controls",
            "_model_module_version": "1.5.0",
            "_model_name": "ProgressStyleModel",
            "_view_count": null,
            "_view_module": "@jupyter-widgets/base",
            "_view_module_version": "1.2.0",
            "_view_name": "StyleView",
            "bar_color": null,
            "description_width": ""
          }
        },
        "b1d9b8d10dcc4f138570284f2343f38d": {
          "model_module": "@jupyter-widgets/base",
          "model_name": "LayoutModel",
          "model_module_version": "1.2.0",
          "state": {
            "_model_module": "@jupyter-widgets/base",
            "_model_module_version": "1.2.0",
            "_model_name": "LayoutModel",
            "_view_count": null,
            "_view_module": "@jupyter-widgets/base",
            "_view_module_version": "1.2.0",
            "_view_name": "LayoutView",
            "align_content": null,
            "align_items": null,
            "align_self": null,
            "border": null,
            "bottom": null,
            "display": null,
            "flex": null,
            "flex_flow": null,
            "grid_area": null,
            "grid_auto_columns": null,
            "grid_auto_flow": null,
            "grid_auto_rows": null,
            "grid_column": null,
            "grid_gap": null,
            "grid_row": null,
            "grid_template_areas": null,
            "grid_template_columns": null,
            "grid_template_rows": null,
            "height": null,
            "justify_content": null,
            "justify_items": null,
            "left": null,
            "margin": null,
            "max_height": null,
            "max_width": null,
            "min_height": null,
            "min_width": null,
            "object_fit": null,
            "object_position": null,
            "order": null,
            "overflow": null,
            "overflow_x": null,
            "overflow_y": null,
            "padding": null,
            "right": null,
            "top": null,
            "visibility": null,
            "width": null
          }
        },
        "49be5f24e5ee4fe2ad1fe6f880391cdd": {
          "model_module": "@jupyter-widgets/controls",
          "model_name": "DescriptionStyleModel",
          "model_module_version": "1.5.0",
          "state": {
            "_model_module": "@jupyter-widgets/controls",
            "_model_module_version": "1.5.0",
            "_model_name": "DescriptionStyleModel",
            "_view_count": null,
            "_view_module": "@jupyter-widgets/base",
            "_view_module_version": "1.2.0",
            "_view_name": "StyleView",
            "description_width": ""
          }
        }
      }
    }
  },
  "cells": [
    {
      "cell_type": "markdown",
      "metadata": {
        "id": "view-in-github",
        "colab_type": "text"
      },
      "source": [
        "<a href=\"https://colab.research.google.com/github/Dylan-Geraci/neuroimaging-tumor-detector/blob/main/notebooks/02_model_training.ipynb\" target=\"_parent\"><img src=\"https://colab.research.google.com/assets/colab-badge.svg\" alt=\"Open In Colab\"/></a>"
      ]
    },
    {
      "cell_type": "markdown",
      "source": [
        "# Model Training"
      ],
      "metadata": {
        "id": "DJ7_x9M-Ji5R"
      }
    },
    {
      "cell_type": "markdown",
      "source": [
        "## Notebook Setup"
      ],
      "metadata": {
        "id": "xUgARUCOJt7R"
      }
    },
    {
      "cell_type": "markdown",
      "source": [
        "Import Libraries"
      ],
      "metadata": {
        "id": "npv4PSqgKA4D"
      }
    },
    {
      "cell_type": "code",
      "execution_count": 12,
      "metadata": {
        "id": "7f8UXfqI3O4x"
      },
      "outputs": [],
      "source": [
        "# --- Standard ---\n",
        "import os, json, math, time\n",
        "from collections import Counter\n",
        "\n",
        "# --- Numerical / data ---\n",
        "import numpy as np\n",
        "import pandas as pd\n",
        "\n",
        "# --- Imaging & plotting ---\n",
        "from PIL import Image\n",
        "\n",
        "# --- Torch / ML ---\n",
        "import torch\n",
        "import torch.nn as nn\n",
        "import torch.optim as optim\n",
        "from torch.utils.data import Dataset, DataLoader\n",
        "\n",
        "# --- Metrics ---\n",
        "from sklearn.metrics import f1_score, accuracy_score\n",
        "\n",
        "# --- Vision ---\n",
        "from torchvision import transforms\n",
        "\n",
        "# --- Pretrained models ---\n",
        "import timm\n",
        "\n",
        "# --- Google Drive ---\n",
        "from google.colab import drive\n",
        "\n",
        "import time, json, torch\n",
        "from torch.amp import autocast, GradScaler"
      ]
    },
    {
      "cell_type": "markdown",
      "source": [
        "Set Training Data Path"
      ],
      "metadata": {
        "id": "5CPczaCDJz2K"
      }
    },
    {
      "cell_type": "code",
      "source": [
        "drive.mount('/content/drive')\n",
        "TRAIN_PATH = \"/content/drive/MyDrive/neuro-imaging/data/Training\""
      ],
      "metadata": {
        "id": "SqZB24pgJzee",
        "colab": {
          "base_uri": "https://localhost:8080/"
        },
        "outputId": "5034be00-da58-464e-bd7d-eb33709e88d3"
      },
      "execution_count": 2,
      "outputs": [
        {
          "output_type": "stream",
          "name": "stdout",
          "text": [
            "Mounted at /content/drive\n"
          ]
        }
      ]
    },
    {
      "cell_type": "code",
      "source": [
        "USE_SAVED_SPLITS = False\n",
        "SPLITS_DIR = \"/content/drive/MyDrive/neuro-imaging/splits\""
      ],
      "metadata": {
        "id": "mTKcqorcS7mD"
      },
      "execution_count": 3,
      "outputs": []
    },
    {
      "cell_type": "markdown",
      "source": [
        "## Path and Constants"
      ],
      "metadata": {
        "id": "flyOUPy_YeLF"
      }
    },
    {
      "cell_type": "code",
      "source": [
        "TRAIN_PATH = \"/content/drive/MyDrive/neuro-imaging/data/Training\"\n",
        "SPLITS_DIR = \"/content/drive/MyDrive/neuro-imaging/splits\"\n",
        "OUT_DIR    = \"/content/drive/MyDrive/neuro-imaging/models\"\n",
        "os.makedirs(OUT_DIR, exist_ok=True)\n",
        "\n",
        "IMG_SIZE = 224\n",
        "BATCH_SIZE = 32\n",
        "LR = 3e-4\n",
        "EPOCHS = 10\n",
        "PATIENCE = 2\n",
        "SEED = 42"
      ],
      "metadata": {
        "id": "zIY6rvRiYggv"
      },
      "execution_count": 4,
      "outputs": []
    },
    {
      "cell_type": "markdown",
      "source": [
        "## Reproducing"
      ],
      "metadata": {
        "id": "fNk99AnOYn3u"
      }
    },
    {
      "cell_type": "code",
      "source": [
        "def set_seed(seed=SEED):\n",
        "    import random\n",
        "    random.seed(seed)\n",
        "    np.random.seed(seed)\n",
        "    torch.manual_seed(seed)\n",
        "    torch.cuda.manual_seed_all(seed)\n",
        "    torch.backends.cudnn.deterministic = True\n",
        "    torch.backends.cudnn.benchmark = False\n",
        "\n",
        "set_seed(SEED)\n",
        "\n",
        "device = torch.device(\"cuda\" if torch.cuda.is_available() else \"cpu\")\n",
        "print(\"Device:\", device)"
      ],
      "metadata": {
        "colab": {
          "base_uri": "https://localhost:8080/"
        },
        "id": "u5gyhzb3Yqs9",
        "outputId": "a54a8c14-ed7d-4bc2-fa12-b9a70cf7e112"
      },
      "execution_count": 5,
      "outputs": [
        {
          "output_type": "stream",
          "name": "stdout",
          "text": [
            "Device: cuda\n"
          ]
        }
      ]
    },
    {
      "cell_type": "markdown",
      "source": [
        "## Load Splits and Class Maps"
      ],
      "metadata": {
        "id": "ehSgdCCHY15I"
      }
    },
    {
      "cell_type": "code",
      "source": [
        "def _read_paths(txt_path):\n",
        "    with open(txt_path, \"r\") as f:\n",
        "        return [ln.strip() for ln in f if ln.strip()]\n",
        "\n",
        "with open(os.path.join(SPLITS_DIR, \"class_to_idx.json\"), \"r\") as f:\n",
        "    class_to_idx = json.load(f)\n",
        "idx_to_class = {v:k for k,v in class_to_idx.items()}\n",
        "num_classes = len(class_to_idx)\n",
        "print(\"Classes:\", [idx_to_class[i] for i in range(num_classes)])\n",
        "\n",
        "train_paths = _read_paths(os.path.join(SPLITS_DIR, \"train.txt\"))\n",
        "val_paths   = _read_paths(os.path.join(SPLITS_DIR, \"val.txt\"))\n",
        "print(f\"Loaded {len(train_paths)} train, {len(val_paths)} val files\")\n"
      ],
      "metadata": {
        "colab": {
          "base_uri": "https://localhost:8080/"
        },
        "id": "bE0C_9ADY5aH",
        "outputId": "07808b8d-6959-45de-db94-b6e12925ba00"
      },
      "execution_count": 6,
      "outputs": [
        {
          "output_type": "stream",
          "name": "stdout",
          "text": [
            "Classes: ['glioma', 'meningioma', 'notumor', 'pituitary']\n",
            "Loaded 4855 train, 857 val files\n"
          ]
        }
      ]
    },
    {
      "cell_type": "markdown",
      "source": [
        "## Transforms"
      ],
      "metadata": {
        "id": "XMNmQVlYgjx3"
      }
    },
    {
      "cell_type": "code",
      "source": [
        "train_tfms = transforms.Compose([\n",
        "    transforms.Grayscale(num_output_channels=3),\n",
        "    transforms.Resize((IMG_SIZE, IMG_SIZE)),\n",
        "    transforms.RandomHorizontalFlip(),\n",
        "    transforms.ToTensor(),\n",
        "    transforms.Normalize([0.485,0.456,0.406],[0.229,0.224,0.225]),\n",
        "])\n",
        "\n",
        "val_tfms = transforms.Compose([\n",
        "    transforms.Grayscale(num_output_channels=3),\n",
        "    transforms.Resize((IMG_SIZE, IMG_SIZE)),\n",
        "    transforms.ToTensor(),\n",
        "    transforms.Normalize([0.485,0.456,0.406],[0.229,0.224,0.225]),\n",
        "])"
      ],
      "metadata": {
        "id": "D7h-8FpGgl7p"
      },
      "execution_count": 7,
      "outputs": []
    },
    {
      "cell_type": "markdown",
      "source": [
        "## Dataset from path list"
      ],
      "metadata": {
        "id": "TGQ57dOcgn3s"
      }
    },
    {
      "cell_type": "code",
      "source": [
        "class PathDataset(Dataset):\n",
        "    def __init__(self, paths, class_to_idx, transform=None):\n",
        "        self.paths = paths\n",
        "        self.class_to_idx = class_to_idx\n",
        "        self.transform = transform\n",
        "\n",
        "    def __len__(self):\n",
        "        return len(self.paths)\n",
        "\n",
        "    def __getitem__(self, i):\n",
        "        p = self.paths[i]\n",
        "        cls_name = os.path.basename(os.path.dirname(p))\n",
        "        y = self.class_to_idx[cls_name]\n",
        "        img = Image.open(p)\n",
        "        if self.transform:\n",
        "            img = self.transform(img)\n",
        "        return img, y\n",
        "\n",
        "train_ds = PathDataset(train_paths, class_to_idx, train_tfms)\n",
        "val_ds   = PathDataset(val_paths,   class_to_idx, val_tfms)\n",
        "\n",
        "train_dl = DataLoader(train_ds, batch_size=BATCH_SIZE, shuffle=True,  num_workers=2, pin_memory=True)\n",
        "val_dl   = DataLoader(val_ds,   batch_size=BATCH_SIZE, shuffle=False, num_workers=2, pin_memory=True)"
      ],
      "metadata": {
        "id": "W1rgcAdAgnVL"
      },
      "execution_count": 8,
      "outputs": []
    },
    {
      "cell_type": "markdown",
      "source": [
        "## Class weights (handle imbalances)"
      ],
      "metadata": {
        "id": "uEYti79Ki6cY"
      }
    },
    {
      "cell_type": "code",
      "source": [
        "train_counts = Counter([os.path.basename(os.path.dirname(p)) for p in train_paths])\n",
        "counts_by_idx = np.array([train_counts[idx_to_class[i]] for i in range(num_classes)], dtype=np.float32)\n",
        "weights = (len(train_paths) / (num_classes * counts_by_idx))\n",
        "class_weights = torch.tensor(weights, dtype=torch.float32, device=device)\n",
        "print(\"Class weights:\", weights.tolist())"
      ],
      "metadata": {
        "colab": {
          "base_uri": "https://localhost:8080/"
        },
        "id": "VCTfEsX_i4la",
        "outputId": "ba55b691-9123-48ad-c7f9-6474ee02e098"
      },
      "execution_count": 9,
      "outputs": [
        {
          "output_type": "stream",
          "name": "stdout",
          "text": [
            "Class weights: [1.080810308456421, 1.0665642023086548, 0.8950958847999573, 0.980411946773529]\n"
          ]
        }
      ]
    },
    {
      "cell_type": "markdown",
      "source": [
        "## Model, loss, optimizer, scaler"
      ],
      "metadata": {
        "id": "wgmV7uA7jGzF"
      }
    },
    {
      "cell_type": "code",
      "source": [
        "model = timm.create_model(\"efficientnet_b0\", pretrained=True, num_classes=num_classes)\n",
        "model.to(device)\n",
        "\n",
        "criterion = nn.CrossEntropyLoss(weight=class_weights)\n",
        "optimizer = optim.AdamW(model.parameters(), lr=LR)\n",
        "scaler = torch.cuda.amp.GradScaler(enabled=(device.type == \"cuda\"))"
      ],
      "metadata": {
        "colab": {
          "base_uri": "https://localhost:8080/",
          "height": 185,
          "referenced_widgets": [
            "ee4101152d5b4396aa9e60d433e4469f",
            "fe022a1fa52a4160b3ef50d58009fd1a",
            "08ae9dcb95034223b5385a19ca6c556f",
            "a6b1f84acc7d42b089a6af1fafe66f42",
            "e1e1e96c527845b281d5dd966b28510b",
            "e8c779f07ee840cb831ff7291a0a2f45",
            "e65f592f38554a859da35f58ad80704b",
            "54a21bf1e97944ee90a1073833dd9103",
            "f8dce1fdf3f24167a75b627d12930329",
            "b1d9b8d10dcc4f138570284f2343f38d",
            "49be5f24e5ee4fe2ad1fe6f880391cdd"
          ]
        },
        "id": "6X4ZOL8ujI1k",
        "outputId": "d44f4258-aa3e-4324-de08-100a0c1d9cfd"
      },
      "execution_count": 10,
      "outputs": [
        {
          "output_type": "stream",
          "name": "stderr",
          "text": [
            "/usr/local/lib/python3.12/dist-packages/huggingface_hub/utils/_auth.py:94: UserWarning: \n",
            "The secret `HF_TOKEN` does not exist in your Colab secrets.\n",
            "To authenticate with the Hugging Face Hub, create a token in your settings tab (https://huggingface.co/settings/tokens), set it as secret in your Google Colab and restart your session.\n",
            "You will be able to reuse this secret in all of your notebooks.\n",
            "Please note that authentication is recommended but still optional to access public models or datasets.\n",
            "  warnings.warn(\n"
          ]
        },
        {
          "output_type": "display_data",
          "data": {
            "text/plain": [
              "model.safetensors:   0%|          | 0.00/21.4M [00:00<?, ?B/s]"
            ],
            "application/vnd.jupyter.widget-view+json": {
              "version_major": 2,
              "version_minor": 0,
              "model_id": "ee4101152d5b4396aa9e60d433e4469f"
            }
          },
          "metadata": {}
        },
        {
          "output_type": "stream",
          "name": "stderr",
          "text": [
            "/tmp/ipython-input-3194161557.py:6: FutureWarning: `torch.cuda.amp.GradScaler(args...)` is deprecated. Please use `torch.amp.GradScaler('cuda', args...)` instead.\n",
            "  scaler = torch.cuda.amp.GradScaler(enabled=(device.type == \"cuda\"))\n"
          ]
        }
      ]
    },
    {
      "cell_type": "markdown",
      "source": [
        "## Train / eval helpers"
      ],
      "metadata": {
        "id": "nJtMe3KhjTD7"
      }
    },
    {
      "cell_type": "code",
      "source": [
        "@torch.no_grad()\n",
        "def evaluate(model, loader, device):\n",
        "    model.eval()\n",
        "    all_preds, all_targets = [], []\n",
        "    total_loss = 0.0\n",
        "    for x, y in loader:\n",
        "        x = x.to(device, non_blocking=True)\n",
        "        y = y.to(device, non_blocking=True)\n",
        "        with torch.cuda.amp.autocast(enabled=(device.type==\"cuda\")):\n",
        "            logits = model(x)\n",
        "            loss = criterion(logits, y)\n",
        "        total_loss += loss.item() * x.size(0)\n",
        "        preds = torch.argmax(logits, dim=1)\n",
        "        all_preds.append(preds.cpu().numpy())\n",
        "        all_targets.append(y.cpu().numpy())\n",
        "\n",
        "    all_preds = np.concatenate(all_preds)\n",
        "    all_targets = np.concatenate(all_targets)\n",
        "    val_loss = total_loss / len(loader.dataset)\n",
        "    acc = accuracy_score(all_targets, all_preds)\n",
        "    f1_macro = f1_score(all_targets, all_preds, average=\"macro\")\n",
        "    return {\"loss\": val_loss, \"acc\": acc, \"f1_macro\": f1_macro}\n",
        "\n",
        "def train_one_epoch(model, loader, device):\n",
        "    model.train()\n",
        "    total_loss = 0.0\n",
        "    for x, y in loader:\n",
        "        x = x.to(device, non_blocking=True)\n",
        "        y = y.to(device, non_blocking=True)\n",
        "        optimizer.zero_grad(set_to_none=True)\n",
        "        with torch.cuda.amp.autocast(enabled=(device.type==\"cuda\")):\n",
        "            logits = model(x)\n",
        "            loss = criterion(logits, y)\n",
        "        scaler.scale(loss).backward()\n",
        "        scaler.step(optimizer)\n",
        "        scaler.update()\n",
        "        total_loss += loss.item() * x.size(0)\n",
        "    return total_loss / len(loader.dataset)"
      ],
      "metadata": {
        "id": "T4suZtzJjUVR"
      },
      "execution_count": 11,
      "outputs": []
    },
    {
      "cell_type": "markdown",
      "source": [
        "## Training loop with early stopping on val macro-F1"
      ],
      "metadata": {
        "id": "Q2X7U0twjZqy"
      }
    },
    {
      "cell_type": "code",
      "source": [
        "# Verify GPU\n",
        "import torch, os, subprocess, textwrap\n",
        "print(\"CUDA available:\", torch.cuda.is_available())\n",
        "if torch.cuda.is_available():\n",
        "    try:\n",
        "        print(subprocess.check_output([\"nvidia-smi\"], text=True))\n",
        "    except Exception:\n",
        "        pass\n",
        "\n",
        "# Copy dataset from Drive -> local (much faster I/O)\n",
        "!mkdir -p /content/data/Training\n",
        "!rsync -ah --delete --info=progress2 \"/content/drive/MyDrive/neuro-imaging/data/Training/\" \"/content/data/Training/\""
      ],
      "metadata": {
        "colab": {
          "base_uri": "https://localhost:8080/"
        },
        "id": "KyHIs7I6jcqD",
        "outputId": "dc84c8dc-7335-4fc5-d006-54ad97806a24"
      },
      "execution_count": 1,
      "outputs": [
        {
          "output_type": "stream",
          "name": "stdout",
          "text": [
            "CUDA available: True\n",
            "Mon Aug 25 19:15:21 2025       \n",
            "+-----------------------------------------------------------------------------------------+\n",
            "| NVIDIA-SMI 550.54.15              Driver Version: 550.54.15      CUDA Version: 12.4     |\n",
            "|-----------------------------------------+------------------------+----------------------+\n",
            "| GPU  Name                 Persistence-M | Bus-Id          Disp.A | Volatile Uncorr. ECC |\n",
            "| Fan  Temp   Perf          Pwr:Usage/Cap |           Memory-Usage | GPU-Util  Compute M. |\n",
            "|                                         |                        |               MIG M. |\n",
            "|=========================================+========================+======================|\n",
            "|   0  Tesla T4                       Off |   00000000:00:04.0 Off |                    0 |\n",
            "| N/A   44C    P8             10W /   70W |       2MiB /  15360MiB |      0%      Default |\n",
            "|                                         |                        |                  N/A |\n",
            "+-----------------------------------------+------------------------+----------------------+\n",
            "                                                                                         \n",
            "+-----------------------------------------------------------------------------------------+\n",
            "| Processes:                                                                              |\n",
            "|  GPU   GI   CI        PID   Type   Process name                              GPU Memory |\n",
            "|        ID   ID                                                               Usage      |\n",
            "|=========================================================================================|\n",
            "|  No running processes found                                                             |\n",
            "+-----------------------------------------------------------------------------------------+\n",
            "\n",
            "rsync: [sender] change_dir \"/content/drive/MyDrive/neuro-imaging/data/Training\" failed: No such file or directory (2)\n",
            "              0 100%    0.00kB/s    0:00:00 (xfr#0, to-chk=0/0)\n",
            "rsync error: some files/attrs were not transferred (see previous errors) (code 23) at main.c(1338) [sender=3.2.7]\n"
          ]
        }
      ]
    }
  ]
}